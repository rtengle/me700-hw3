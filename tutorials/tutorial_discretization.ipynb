{
 "cells": [
  {
   "cell_type": "markdown",
   "metadata": {},
   "source": [
    "In this tutorial, we will be walking through the implementation details of D2_nn4_quad elements. Here they are visualized in their natural coordinates with 4 nodes and 4 Gaussian integration points (we will get to this later)"
   ]
  },
  {
   "cell_type": "code",
   "execution_count": 7,
   "metadata": {},
   "outputs": [],
   "source": [
    "from finiteelementanalysis import discretization_demo_helper_fcns as di_demo\n",
    "\n",
    "ele_type = \"D2_nn4_quad\"\n",
    "num_gauss_pts = 4\n",
    "fname = \"D2_nn4_quad_4gp.png\"\n",
    "di_demo.visualize_gauss_pts(fname, ele_type, num_gauss_pts)"
   ]
  },
  {
   "cell_type": "code",
   "execution_count": 8,
   "metadata": {},
   "outputs": [],
   "source": [
    "from finiteelementanalysis import discretization_demo_helper_fcns as di_demo\n",
    "import numpy as np\n",
    "\n",
    "def fcn(xi, eta):\n",
    "    return 2.0 * xi + 3.0 * eta + 1.5 * xi * eta\n",
    "\n",
    "ele_type = \"D2_nn4_quad\"\n",
    "node_coords = np.array([[-1, -1], [1, -1], [1, 1], [-1, 1]])\n",
    "node_values = np.array([fcn(xi, eta) for xi, eta in node_coords])\n",
    "\n",
    "fname = ele_type + \"_interpolate_fcn.png\"\n",
    "di_demo.plot_interpolate_field_natural_coords_single_element(fname, ele_type, node_values)"
   ]
  },
  {
   "cell_type": "code",
   "execution_count": 9,
   "metadata": {},
   "outputs": [],
   "source": [
    "from finiteelementanalysis import discretization_demo_helper_fcns as di_demo\n",
    "import numpy as np\n",
    "\n",
    "def fcn(x, y):\n",
    "    return 2.0 * x + 3.0 * y + 1.5 * x * y\n",
    "\n",
    "ele_type = \"D2_nn4_quad\"\n",
    "node_coords = np.array([[1, 1], [4, 0], [3, 3], [0, 2]])\n",
    "node_values = np.array([fcn(x, y) for x, y in node_coords])\n",
    "fname = ele_type + \"_interpolate_fcn_physical_coords.png\"\n",
    "di_demo.visualize_isoparametric_mapping_single_element(str(fname), ele_type, node_coords, node_values)"
   ]
  },
  {
   "cell_type": "code",
   "execution_count": 10,
   "metadata": {},
   "outputs": [
    {
     "name": "stdout",
     "output_type": "stream",
     "text": [
      "analytical and numerical derivatives match!\n"
     ]
    }
   ],
   "source": [
    "from finiteelementanalysis import discretization_demo_helper_fcns as di_demo\n",
    "import numpy as np\n",
    "\n",
    "def fcn(x, y):\n",
    "    return 2.0 * x + 3.0 * y + 1.5 * x * y\n",
    "\n",
    "def fcn_deriv(x, y):\n",
    "    return np.asarray([2.0 + 1.5 * y, 3.0 + 1.5 * x]).reshape((2, 1))\n",
    "\n",
    "ele_type = \"D2_nn4_quad\"\n",
    "node_coords = np.array([[0, 0], [2, 0], [2, 2], [0, 2]])\n",
    "node_values = np.array([fcn(x, y) for x, y in node_coords])\n",
    "\n",
    "xi, eta = 0, 0  # element center in natural coordinates\n",
    "\n",
    "# Map the test point from natural to physical coordinates\n",
    "x_mapped = di_demo.interpolate_field_natural_coords_single_element(\n",
    "    ele_type, node_coords[:, 0], [xi], [eta]\n",
    ").flatten()[0]\n",
    "y_mapped = di_demo.interpolate_field_natural_coords_single_element(\n",
    "    ele_type, node_coords[:, 1], [xi], [eta]\n",
    ").flatten()[0]\n",
    "\n",
    "# Evaluate the function derivative in physical coordinates\n",
    "mapped_deriv = fcn_deriv(x_mapped, y_mapped)\n",
    "\n",
    "# Compute the numerical gradient in natural coordinates\n",
    "gradient_natural = di_demo.interpolate_gradient_natural_coords_single_element(\n",
    "    ele_type, node_values, np.array([xi]), np.array([eta])\n",
    ")\n",
    "\n",
    "# Transform the numerical gradient to physical coordinates\n",
    "gradient_physical = di_demo.transform_gradient_to_physical(\n",
    "    ele_type, node_coords, np.array([xi]), np.array([eta]), gradient_natural\n",
    ").reshape((2, 1))\n",
    "\n",
    "if np.allclose(mapped_deriv, gradient_physical, atol=10e-10):\n",
    "    print(\"analytical and numerical derivatives match!\")\n"
   ]
  },
  {
   "cell_type": "code",
   "execution_count": 11,
   "metadata": {},
   "outputs": [
    {
     "name": "stdout",
     "output_type": "stream",
     "text": [
      "analytical and numerical integrals of derivatives match!\n"
     ]
    }
   ],
   "source": [
    "from finiteelementanalysis import discretization_demo_helper_fcns as di_demo\n",
    "import numpy as np\n",
    "\n",
    "def fcn(x, y):\n",
    "    return 3.0 * x + 10.0 * y\n",
    "\n",
    "def fcn_deriv(x, y):\n",
    "    return np.asarray([3.0, 10.0])  # df/dx = 3.0, df/dy = 0\n",
    "\n",
    "def element_area(node_coords):\n",
    "    x1, y1 = node_coords[0]\n",
    "    x2, y2 = node_coords[1]\n",
    "    x3, y3 = node_coords[2]\n",
    "    x4, y4 = node_coords[3]\n",
    "    area = 0.5 * abs((x1 * y2 + x2 * y3 + x3 * y4 + x4 * y1) \n",
    "                     - (y1 * x2 + y2 * x3 + y3 * x4 + y4 * x1))\n",
    "    return area\n",
    "\n",
    "def integral_of_deriv(node_coords):\n",
    "    area = element_area(node_coords)\n",
    "    return np.array([3.0 * area, 10.0 * area]).reshape((2, 1))\n",
    "\n",
    "ele_type = \"D2_nn4_quad\"\n",
    "num_gauss_pts = 4\n",
    "node_coords = np.array([[0, 0], [2, 0], [2, 2], [0, 2]])\n",
    "\n",
    "# Compute nodal values from fcn(x, y)\n",
    "nodal_values = np.array([[fcn(x, y) for x, y in node_coords]]).T\n",
    "\n",
    "# Compute numerical integral\n",
    "integral_numerical = di_demo.compute_integral_of_derivative(\n",
    "    ele_type, num_gauss_pts, node_coords, nodal_values)\n",
    "\n",
    "# Compute analytical integral\n",
    "integral_analytical = integral_of_deriv(node_coords)\n",
    "\n",
    "# check result\n",
    "if np.allclose(integral_numerical, integral_analytical, atol=10e-10):\n",
    "    print(\"analytical and numerical integrals of derivatives match!\")"
   ]
  },
  {
   "cell_type": "code",
   "execution_count": 12,
   "metadata": {},
   "outputs": [],
   "source": [
    "from finiteelementanalysis import discretization_demo_helper_fcns as di_demo\n",
    "import numpy as np\n",
    "\n",
    "def fcn(x, y):\n",
    "    return 2.0 * x + 3.0 * y + 1.5 * x * y\n",
    "\n",
    "ele_type = \"D2_nn6_tri\"\n",
    "# nodal coords don't follow ordering conventions:\n",
    "# node_coords = np.array([[0.0, 0.0], [1.0, 0.0], [0.0, 1.0], [0.5, 0.5], [0.0, 0.5], [0.5, 0]])\n",
    "# nodal coords do follow ordering convention:\n",
    "node_coords = np.array([[0.0, 0.0], [1.0, 0.0], [0.0, 1.0], [0.5, 0], [0.5, 0.5], [0.0, 0.5]])\n",
    "node_values = np.array([fcn(x, y) for x, y in node_coords])\n",
    "fname = ele_type + \"_interpolate_fcn_physicalcoords.png\"\n",
    "di_demo.visualize_isoparametric_mapping_single_element(str(fname), ele_type, node_coords, node_values)\n",
    "# note --> rotation in the field"
   ]
  }
 ],
 "metadata": {
  "kernelspec": {
   "display_name": "finite-element-analysis-env",
   "language": "python",
   "name": "python3"
  },
  "language_info": {
   "codemirror_mode": {
    "name": "ipython",
    "version": 3
   },
   "file_extension": ".py",
   "mimetype": "text/x-python",
   "name": "python",
   "nbconvert_exporter": "python",
   "pygments_lexer": "ipython3",
   "version": "3.12.9"
  },
  "orig_nbformat": 4
 },
 "nbformat": 4,
 "nbformat_minor": 2
}
