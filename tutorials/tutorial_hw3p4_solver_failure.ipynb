{
 "cells": [
  {
   "cell_type": "code",
   "execution_count": 1,
   "metadata": {},
   "outputs": [],
   "source": [
    "from finiteelementanalysis import visualize as viz\n",
    "from finiteelementanalysis import pre_process as pre\n",
    "from finiteelementanalysis import pre_process_demo_helper_fcns as pre_demo\n",
    "from finiteelementanalysis import solver_demo_helper_functions as solver_demo\n",
    "from finiteelementanalysis.solver import hyperelastic_solver\n",
    "import numpy as np\n",
    "import matplotlib.pyplot as plt"
   ]
  },
  {
   "cell_type": "markdown",
   "metadata": {},
   "source": [
    "This notebook will show how the solver can fail. Specifically, we apply too large a change in load leading the Newton-Raphson method to fail. \n",
    "\n",
    "We will be using D2_nn6_tri with 100 horizontal elements and 2 vertical elements. Our beam is represented by a 30 x 1 rectangle."
   ]
  },
  {
   "cell_type": "code",
   "execution_count": 2,
   "metadata": {},
   "outputs": [],
   "source": [
    "ele_type = \"D2_nn6_tri\" # change this!\n",
    "nx = 100 # change this to refine the mesh\n",
    "ny = 1 # change this to refine the mesh\n",
    "L = 30\n",
    "H = 1\n",
    "\n",
    "coords, connect = pre.generate_rect_mesh_2d(ele_type, 0.0, 0.0, L, H, nx, ny)"
   ]
  },
  {
   "cell_type": "markdown",
   "metadata": {},
   "source": [
    "Our problem will have a distributed downward load on the top with both left and right ends fixed. Our load and material properties are defined below."
   ]
  },
  {
   "cell_type": "code",
   "execution_count": 3,
   "metadata": {},
   "outputs": [],
   "source": [
    "# Identify boundaries\n",
    "boundary_nodes, boundary_edges = pre.identify_rect_boundaries(coords, connect, ele_type, 0.0, L, 0.0, H)\n",
    "# 1. Fix left boundary: both u_x and u_y = 0.\n",
    "fixed_nodes_left = pre.assign_fixed_nodes_rect(boundary_nodes, \"left\", 0.0, 0.0)\n",
    "fixed_nodes_right = pre.assign_fixed_nodes_rect(boundary_nodes, \"right\", 0.0, 0.0)\n",
    "fixed_nodes = np.hstack((fixed_nodes_left, fixed_nodes_right))\n",
    "# Assign distributed load on the right boundary\n",
    "q = 500\n",
    "dload_info = pre.assign_uniform_load_rect(boundary_edges, \"top\", 0.0, -q)\n",
    "# Assign material properties\n",
    "E = 1e6\n",
    "nu = 0.3\n",
    "# mu = E / (2.0 * (1.0 + nu))\n",
    "# kappa = E / (3.0 * (1.0 - 2.0 * nu))\n",
    "mu = E / (2.0 * (1.0 + nu))\n",
    "#kappa = E / (2.0 * (1.0 - nu))\n",
    "kappa = E / (3.0 * (1.0 - 2.0 * nu))\n",
    "material_props = np.array([mu, kappa])\n",
    "# Assign artificial displacement field\n",
    "displacement = np.zeros((coords.shape))\n",
    "for kk in range(0, coords.shape[0]):\n",
    "    displacement[kk, 0] = coords[kk, 0] * 0.01\n",
    "\n",
    "# Analytical solution\n",
    "def solution(x, load_factor):\n",
    "    w = q*load_factor\n",
    "    I = H**3/12\n",
    "    y = 0.5 - w * x**2 / (24*E*I) * (L-x)**2\n",
    "    return y\n",
    "\n",
    "# Animated plot\n",
    "fname = \"hw_solver_large_deformation.png\"\n",
    "pre_demo.plot_mesh_2D(fname, ele_type, coords, connect)"
   ]
  },
  {
   "cell_type": "markdown",
   "metadata": {},
   "source": [
    "If we try and apply the load all at once, we run into an issue where the solver does not converge."
   ]
  },
  {
   "cell_type": "code",
   "execution_count": 4,
   "metadata": {},
   "outputs": [
    {
     "name": "stdout",
     "output_type": "stream",
     "text": [
      "Step 0, load factor = 1.000\n",
      "Iteration 1, Correction=1.000000e+00, Residual=9.261322e-01, tolerance=1.000000e-09\n",
      "Iteration 2, Correction=1.424711e+00, Residual=6.517858e+03, tolerance=1.000000e-09\n"
     ]
    },
    {
     "name": "stderr",
     "output_type": "stream",
     "text": [
      "/Users/ryanengle/Documents/College/Graduate School/Classes/ME700 Lejeune/My Projects/me700-hw3/src/finiteelementanalysis/solver.py:133: MatrixRankWarning: Matrix is exactly singular\n",
      "  d_displacement = spla.spsolve(K_sparse, R)\n"
     ]
    },
    {
     "name": "stdout",
     "output_type": "stream",
     "text": [
      "Iteration 3, Correction=0.000000e+00, Residual=nan, tolerance=1.000000e-09\n"
     ]
    },
    {
     "ename": "ValueError",
     "evalue": "Axis limits cannot be NaN or Inf",
     "output_type": "error",
     "traceback": [
      "\u001b[31m---------------------------------------------------------------------------\u001b[39m",
      "\u001b[31mValueError\u001b[39m                                Traceback (most recent call last)",
      "\u001b[36mCell\u001b[39m\u001b[36m \u001b[39m\u001b[32mIn[4]\u001b[39m\u001b[32m, line 9\u001b[39m\n\u001b[32m      6\u001b[39m displacements_all, nr_info_all = hyperelastic_solver(material_props, ele_type, coords.T, connect.T, fixed_nodes, dload_info, nr_print, nr_num_steps, nr_tol=\u001b[32m1e-9\u001b[39m, nr_maxit=\u001b[32m30\u001b[39m)\n\u001b[32m      8\u001b[39m fname = \u001b[33m\"\u001b[39m\u001b[33mlarge-def.gif\u001b[39m\u001b[33m\"\u001b[39m\n\u001b[32m----> \u001b[39m\u001b[32m9\u001b[39m \u001b[43mviz\u001b[49m\u001b[43m.\u001b[49m\u001b[43mmake_deformation_gif\u001b[49m\u001b[43m(\u001b[49m\u001b[43msolution\u001b[49m\u001b[43m,\u001b[49m\u001b[43m \u001b[49m\u001b[43mdisplacements_all\u001b[49m\u001b[43m,\u001b[49m\u001b[43m \u001b[49m\u001b[43mcoords\u001b[49m\u001b[43m,\u001b[49m\u001b[43m \u001b[49m\u001b[43mconnect\u001b[49m\u001b[43m,\u001b[49m\u001b[43m \u001b[49m\u001b[43mele_type\u001b[49m\u001b[43m,\u001b[49m\u001b[43m \u001b[49m\u001b[43mfname\u001b[49m\u001b[43m)\u001b[49m\n",
      "\u001b[36mFile \u001b[39m\u001b[32m~/Documents/College/Graduate School/Classes/ME700 Lejeune/My Projects/me700-hw3/src/finiteelementanalysis/visualize.py:110\u001b[39m, in \u001b[36mmake_deformation_gif\u001b[39m\u001b[34m(analytic_solution, displacements_all, coords, connect, ele_type, gif_path, magnification, interval)\u001b[39m\n\u001b[32m    108\u001b[39m x_min, x_max = coords[:, \u001b[32m0\u001b[39m].min() - max_disp, coords[:, \u001b[32m0\u001b[39m].max() + max_disp\n\u001b[32m    109\u001b[39m y_min, y_max = coords[:, \u001b[32m1\u001b[39m].min() - max_disp, coords[:, \u001b[32m1\u001b[39m].max() + max_disp\n\u001b[32m--> \u001b[39m\u001b[32m110\u001b[39m \u001b[43max\u001b[49m\u001b[43m.\u001b[49m\u001b[43mset_xlim\u001b[49m\u001b[43m(\u001b[49m\u001b[43mx_min\u001b[49m\u001b[43m,\u001b[49m\u001b[43m \u001b[49m\u001b[43mx_max\u001b[49m\u001b[43m)\u001b[49m\n\u001b[32m    111\u001b[39m ax.set_ylim(y_min, y_max)\n\u001b[32m    113\u001b[39m \u001b[38;5;66;03m# Compute global maximum displacement magnitude\u001b[39;00m\n",
      "\u001b[36mFile \u001b[39m\u001b[32m/opt/anaconda3/envs/finite-element-analysis-env/lib/python3.12/site-packages/matplotlib/axes/_base.py:3812\u001b[39m, in \u001b[36m_AxesBase.set_xlim\u001b[39m\u001b[34m(self, left, right, emit, auto, xmin, xmax)\u001b[39m\n\u001b[32m   3810\u001b[39m         \u001b[38;5;28;01mraise\u001b[39;00m \u001b[38;5;167;01mTypeError\u001b[39;00m(\u001b[33m\"\u001b[39m\u001b[33mCannot pass both \u001b[39m\u001b[33m'\u001b[39m\u001b[33mright\u001b[39m\u001b[33m'\u001b[39m\u001b[33m and \u001b[39m\u001b[33m'\u001b[39m\u001b[33mxmax\u001b[39m\u001b[33m'\u001b[39m\u001b[33m\"\u001b[39m)\n\u001b[32m   3811\u001b[39m     right = xmax\n\u001b[32m-> \u001b[39m\u001b[32m3812\u001b[39m \u001b[38;5;28;01mreturn\u001b[39;00m \u001b[38;5;28;43mself\u001b[39;49m\u001b[43m.\u001b[49m\u001b[43mxaxis\u001b[49m\u001b[43m.\u001b[49m\u001b[43m_set_lim\u001b[49m\u001b[43m(\u001b[49m\u001b[43mleft\u001b[49m\u001b[43m,\u001b[49m\u001b[43m \u001b[49m\u001b[43mright\u001b[49m\u001b[43m,\u001b[49m\u001b[43m \u001b[49m\u001b[43memit\u001b[49m\u001b[43m=\u001b[49m\u001b[43memit\u001b[49m\u001b[43m,\u001b[49m\u001b[43m \u001b[49m\u001b[43mauto\u001b[49m\u001b[43m=\u001b[49m\u001b[43mauto\u001b[49m\u001b[43m)\u001b[49m\n",
      "\u001b[36mFile \u001b[39m\u001b[32m/opt/anaconda3/envs/finite-element-analysis-env/lib/python3.12/site-packages/matplotlib/axis.py:1216\u001b[39m, in \u001b[36mAxis._set_lim\u001b[39m\u001b[34m(self, v0, v1, emit, auto)\u001b[39m\n\u001b[32m   1213\u001b[39m name = \u001b[38;5;28mself\u001b[39m._get_axis_name()\n\u001b[32m   1215\u001b[39m \u001b[38;5;28mself\u001b[39m.axes._process_unit_info([(name, (v0, v1))], convert=\u001b[38;5;28;01mFalse\u001b[39;00m)\n\u001b[32m-> \u001b[39m\u001b[32m1216\u001b[39m v0 = \u001b[38;5;28;43mself\u001b[39;49m\u001b[43m.\u001b[49m\u001b[43maxes\u001b[49m\u001b[43m.\u001b[49m\u001b[43m_validate_converted_limits\u001b[49m\u001b[43m(\u001b[49m\u001b[43mv0\u001b[49m\u001b[43m,\u001b[49m\u001b[43m \u001b[49m\u001b[38;5;28;43mself\u001b[39;49m\u001b[43m.\u001b[49m\u001b[43mconvert_units\u001b[49m\u001b[43m)\u001b[49m\n\u001b[32m   1217\u001b[39m v1 = \u001b[38;5;28mself\u001b[39m.axes._validate_converted_limits(v1, \u001b[38;5;28mself\u001b[39m.convert_units)\n\u001b[32m   1219\u001b[39m \u001b[38;5;28;01mif\u001b[39;00m v0 \u001b[38;5;129;01mis\u001b[39;00m \u001b[38;5;28;01mNone\u001b[39;00m \u001b[38;5;129;01mor\u001b[39;00m v1 \u001b[38;5;129;01mis\u001b[39;00m \u001b[38;5;28;01mNone\u001b[39;00m:\n\u001b[32m   1220\u001b[39m     \u001b[38;5;66;03m# Axes init calls set_xlim(0, 1) before get_xlim() can be called,\u001b[39;00m\n\u001b[32m   1221\u001b[39m     \u001b[38;5;66;03m# so only grab the limits if we really need them.\u001b[39;00m\n",
      "\u001b[36mFile \u001b[39m\u001b[32m/opt/anaconda3/envs/finite-element-analysis-env/lib/python3.12/site-packages/matplotlib/axes/_base.py:3733\u001b[39m, in \u001b[36m_AxesBase._validate_converted_limits\u001b[39m\u001b[34m(self, limit, convert)\u001b[39m\n\u001b[32m   3730\u001b[39m     converted_limit = converted_limit.squeeze()\n\u001b[32m   3731\u001b[39m \u001b[38;5;28;01mif\u001b[39;00m (\u001b[38;5;28misinstance\u001b[39m(converted_limit, Real)\n\u001b[32m   3732\u001b[39m         \u001b[38;5;129;01mand\u001b[39;00m \u001b[38;5;129;01mnot\u001b[39;00m np.isfinite(converted_limit)):\n\u001b[32m-> \u001b[39m\u001b[32m3733\u001b[39m     \u001b[38;5;28;01mraise\u001b[39;00m \u001b[38;5;167;01mValueError\u001b[39;00m(\u001b[33m\"\u001b[39m\u001b[33mAxis limits cannot be NaN or Inf\u001b[39m\u001b[33m\"\u001b[39m)\n\u001b[32m   3734\u001b[39m \u001b[38;5;28;01mreturn\u001b[39;00m converted_limit\n",
      "\u001b[31mValueError\u001b[39m: Axis limits cannot be NaN or Inf"
     ]
    }
   ],
   "source": [
    "# run the example to look at the results\n",
    "\n",
    "nr_num_steps = 1\n",
    "nr_print = True\n",
    "\n",
    "displacements_all, nr_info_all = hyperelastic_solver(material_props, ele_type, coords.T, connect.T, fixed_nodes, dload_info, nr_print, nr_num_steps, nr_tol=1e-9, nr_maxit=30)\n",
    "\n",
    "fname = \"large-def.gif\"\n",
    "viz.make_deformation_gif(solution, displacements_all, coords, connect, ele_type, fname)"
   ]
  }
 ],
 "metadata": {
  "kernelspec": {
   "display_name": "finite-element-analysis-env",
   "language": "python",
   "name": "python3"
  },
  "language_info": {
   "codemirror_mode": {
    "name": "ipython",
    "version": 3
   },
   "file_extension": ".py",
   "mimetype": "text/x-python",
   "name": "python",
   "nbconvert_exporter": "python",
   "pygments_lexer": "ipython3",
   "version": "3.12.9"
  }
 },
 "nbformat": 4,
 "nbformat_minor": 2
}
