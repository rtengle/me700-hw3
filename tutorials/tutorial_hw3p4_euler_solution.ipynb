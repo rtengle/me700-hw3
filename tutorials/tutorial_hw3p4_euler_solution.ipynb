{
 "cells": [
  {
   "cell_type": "code",
   "execution_count": 1,
   "metadata": {},
   "outputs": [],
   "source": [
    "from finiteelementanalysis import visualize as viz\n",
    "from finiteelementanalysis import pre_process as pre\n",
    "from finiteelementanalysis import pre_process_demo_helper_fcns as pre_demo\n",
    "from finiteelementanalysis import solver_demo_helper_functions as solver_demo\n",
    "from finiteelementanalysis.solver import hyperelastic_solver\n",
    "import numpy as np\n",
    "import matplotlib.pyplot as plt"
   ]
  },
  {
   "cell_type": "markdown",
   "metadata": {},
   "source": [
    "This notebook will show that the FEA software (mostly) agrees with the analytical solutions to Euler beam approximations. Note that they will be slightly different since I could not find an analytical solution for a hyperelastic material.\n",
    "\n",
    "We will be using D2_nn6_tri with 100 horizontal elements and 2 vertical elements. Our beam is represented by a 30 x 1 rectangle."
   ]
  },
  {
   "cell_type": "code",
   "execution_count": 2,
   "metadata": {},
   "outputs": [],
   "source": [
    "ele_type = \"D2_nn6_tri\" # change this!\n",
    "nx = 100 # change this to refine the mesh\n",
    "ny = 2 # change this to refine the mesh\n",
    "L = 30\n",
    "H = 1\n",
    "\n",
    "coords, connect = pre.generate_rect_mesh_2d(ele_type, 0.0, 0.0, L, H, nx, ny)"
   ]
  },
  {
   "cell_type": "code",
   "execution_count": 3,
   "metadata": {},
   "outputs": [],
   "source": [
    "# Identify boundaries\n",
    "boundary_nodes, boundary_edges = pre.identify_rect_boundaries(coords, connect, ele_type, 0.0, L, 0.0, H)\n",
    "# 1. Fix left boundary: both u_x and u_y = 0.\n",
    "fixed_nodes_left = pre.assign_fixed_nodes_rect(boundary_nodes, \"left\", 0.0, 0.0)\n",
    "fixed_nodes_right = pre.assign_fixed_nodes_rect(boundary_nodes, \"right\", 0.0, 0.0)\n",
    "fixed_nodes = np.hstack((fixed_nodes_left, fixed_nodes_right))\n",
    "# Assign distributed load on the right boundary\n",
    "q = 2\n",
    "dload_info = pre.assign_uniform_load_rect(boundary_edges, \"top\", 0.0, -q)\n",
    "# Assign material properties\n",
    "E = 1e6\n",
    "nu = 0.3\n",
    "# mu = E / (2.0 * (1.0 + nu))\n",
    "# kappa = E / (3.0 * (1.0 - 2.0 * nu))\n",
    "mu = E / (2.0 * (1.0 + nu))\n",
    "#kappa = E / (2.0 * (1.0 - nu))\n",
    "kappa = E / (3.0 * (1.0 - 2.0 * nu))\n",
    "material_props = np.array([mu, kappa])\n",
    "# Assign artificial displacement field\n",
    "displacement = np.zeros((coords.shape))\n",
    "for kk in range(0, coords.shape[0]):\n",
    "    displacement[kk, 0] = coords[kk, 0] * 0.01\n",
    "\n",
    "# Analytical solution\n",
    "def solution(x, load_factor):\n",
    "    w = q*load_factor\n",
    "    I = H**3/12\n",
    "    y = 0.5 - w * x**2 / (24*E*I) * (L-x)**2\n",
    "    return y\n",
    "\n",
    "# Animated plot\n",
    "fname = \"hw_solver_small_deformation.png\"\n",
    "pre_demo.plot_mesh_2D(fname, ele_type, coords, connect)"
   ]
  },
  {
   "cell_type": "markdown",
   "metadata": {},
   "source": [
    "Our problem will have a distributed downward load on the top with both left and right ends fixed. Our load and material properties are defined below.\n",
    "\n",
    "![alt text](small-def-analytic-solution.png)"
   ]
  },
  {
   "cell_type": "code",
   "execution_count": 7,
   "metadata": {},
   "outputs": [
    {
     "name": "stdout",
     "output_type": "stream",
     "text": [
      "Step 0, load factor = 0.050\n",
      "Iteration 1, Correction=1.000000e+00, Residual=1.111359e-04, tolerance=1.000000e-09\n",
      "Iteration 2, Correction=2.379629e-05, Residual=6.163501e-05, tolerance=1.000000e-09\n",
      "Iteration 3, Correction=2.711166e-10, Residual=8.363500e-13, tolerance=1.000000e-09\n",
      "Step 1, load factor = 0.100\n",
      "Iteration 1, Correction=5.000022e-01, Residual=1.111359e-04, tolerance=1.000000e-09\n",
      "Iteration 2, Correction=9.792775e-06, Residual=6.163788e-05, tolerance=1.000000e-09\n",
      "Iteration 3, Correction=3.870729e-12, Residual=7.778522e-13, tolerance=1.000000e-09\n",
      "Step 2, load factor = 0.150\n",
      "Iteration 1, Correction=3.333332e-01, Residual=1.111359e-04, tolerance=1.000000e-09\n",
      "Iteration 2, Correction=8.080028e-06, Residual=6.163720e-05, tolerance=1.000000e-09\n",
      "Iteration 3, Correction=9.528163e-11, Residual=8.459480e-13, tolerance=1.000000e-09\n",
      "Step 3, load factor = 0.200\n",
      "Iteration 1, Correction=2.499946e-01, Residual=1.111359e-04, tolerance=1.000000e-09\n",
      "Iteration 2, Correction=8.580231e-06, Residual=6.163297e-05, tolerance=1.000000e-09\n",
      "Iteration 3, Correction=1.408894e-10, Residual=8.935319e-13, tolerance=1.000000e-09\n",
      "Step 4, load factor = 0.250\n",
      "Iteration 1, Correction=1.999879e-01, Residual=1.111359e-04, tolerance=1.000000e-09\n",
      "Iteration 2, Correction=9.282083e-06, Residual=6.162520e-05, tolerance=1.000000e-09\n",
      "Iteration 3, Correction=1.683884e-10, Residual=9.944771e-13, tolerance=1.000000e-09\n",
      "Step 5, load factor = 0.300\n",
      "Iteration 1, Correction=1.666471e-01, Residual=1.111359e-04, tolerance=1.000000e-09\n",
      "Iteration 2, Correction=9.880509e-06, Residual=6.161389e-05, tolerance=1.000000e-09\n",
      "Iteration 3, Correction=1.866099e-10, Residual=1.090935e-12, tolerance=1.000000e-09\n",
      "Step 6, load factor = 0.350\n",
      "Iteration 1, Correction=1.428297e-01, Residual=1.111359e-04, tolerance=1.000000e-09\n",
      "Iteration 2, Correction=1.035895e-05, Residual=6.159904e-05, tolerance=1.000000e-09\n",
      "Iteration 3, Correction=1.994268e-10, Residual=1.245068e-12, tolerance=1.000000e-09\n",
      "Step 7, load factor = 0.400\n",
      "Iteration 1, Correction=1.249643e-01, Residual=1.111359e-04, tolerance=1.000000e-09\n",
      "Iteration 2, Correction=1.074043e-05, Residual=6.158066e-05, tolerance=1.000000e-09\n",
      "Iteration 3, Correction=2.090533e-10, Residual=1.407948e-12, tolerance=1.000000e-09\n",
      "Step 8, load factor = 0.450\n",
      "Iteration 1, Correction=1.110670e-01, Residual=1.111359e-04, tolerance=1.000000e-09\n",
      "Iteration 2, Correction=1.104784e-05, Residual=6.155876e-05, tolerance=1.000000e-09\n",
      "Iteration 3, Correction=2.164503e-10, Residual=1.594317e-12, tolerance=1.000000e-09\n",
      "Step 9, load factor = 0.500\n",
      "Iteration 1, Correction=9.994725e-02, Residual=1.111359e-04, tolerance=1.000000e-09\n",
      "Iteration 2, Correction=1.129877e-05, Residual=6.153334e-05, tolerance=1.000000e-09\n",
      "Iteration 3, Correction=2.222989e-10, Residual=1.803789e-12, tolerance=1.000000e-09\n",
      "Step 10, load factor = 0.550\n",
      "Iteration 1, Correction=9.084766e-02, Residual=1.111359e-04, tolerance=1.000000e-09\n",
      "Iteration 2, Correction=1.150605e-05, Residual=6.150442e-05, tolerance=1.000000e-09\n",
      "Iteration 3, Correction=2.269500e-10, Residual=2.052988e-12, tolerance=1.000000e-09\n",
      "Step 11, load factor = 0.600\n",
      "Iteration 1, Correction=8.326313e-02, Residual=1.111359e-04, tolerance=1.000000e-09\n",
      "Iteration 2, Correction=1.167906e-05, Residual=6.147200e-05, tolerance=1.000000e-09\n",
      "Iteration 3, Correction=2.307813e-10, Residual=2.307759e-12, tolerance=1.000000e-09\n",
      "Step 12, load factor = 0.650\n",
      "Iteration 1, Correction=7.684406e-02, Residual=1.111359e-04, tolerance=1.000000e-09\n",
      "Iteration 2, Correction=1.182467e-05, Residual=6.143610e-05, tolerance=1.000000e-09\n",
      "Iteration 3, Correction=2.338000e-10, Residual=2.608386e-12, tolerance=1.000000e-09\n",
      "Step 13, load factor = 0.700\n",
      "Iteration 1, Correction=7.134070e-02, Residual=1.111359e-04, tolerance=1.000000e-09\n",
      "Iteration 2, Correction=1.194804e-05, Residual=6.139673e-05, tolerance=1.000000e-09\n",
      "Iteration 3, Correction=2.364209e-10, Residual=2.904286e-12, tolerance=1.000000e-09\n",
      "Step 14, load factor = 0.750\n",
      "Iteration 1, Correction=6.656991e-02, Residual=1.111359e-04, tolerance=1.000000e-09\n",
      "Iteration 2, Correction=1.205309e-05, Residual=6.135390e-05, tolerance=1.000000e-09\n",
      "Iteration 3, Correction=2.385075e-10, Residual=3.233016e-12, tolerance=1.000000e-09\n",
      "Step 15, load factor = 0.800\n",
      "Iteration 1, Correction=6.239434e-02, Residual=1.111359e-04, tolerance=1.000000e-09\n",
      "Iteration 2, Correction=1.214282e-05, Residual=6.130764e-05, tolerance=1.000000e-09\n",
      "Iteration 3, Correction=2.402941e-10, Residual=3.579556e-12, tolerance=1.000000e-09\n",
      "Step 16, load factor = 0.850\n",
      "Iteration 1, Correction=5.870895e-02, Residual=1.111359e-04, tolerance=1.000000e-09\n",
      "Iteration 2, Correction=1.221961e-05, Residual=6.125796e-05, tolerance=1.000000e-09\n",
      "Iteration 3, Correction=2.417302e-10, Residual=3.962272e-12, tolerance=1.000000e-09\n",
      "Step 17, load factor = 0.900\n",
      "Iteration 1, Correction=5.543205e-02, Residual=1.111359e-04, tolerance=1.000000e-09\n",
      "Iteration 2, Correction=1.228532e-05, Residual=6.120488e-05, tolerance=1.000000e-09\n",
      "Iteration 3, Correction=2.429204e-10, Residual=4.360815e-12, tolerance=1.000000e-09\n",
      "Step 18, load factor = 0.950\n",
      "Iteration 1, Correction=5.249915e-02, Residual=1.111359e-04, tolerance=1.000000e-09\n",
      "Iteration 2, Correction=1.234145e-05, Residual=6.114841e-05, tolerance=1.000000e-09\n",
      "Iteration 3, Correction=2.438432e-10, Residual=4.773549e-12, tolerance=1.000000e-09\n",
      "Step 19, load factor = 1.000\n",
      "Iteration 1, Correction=4.985866e-02, Residual=1.111359e-04, tolerance=1.000000e-09\n",
      "Iteration 2, Correction=1.238923e-05, Residual=6.108859e-05, tolerance=1.000000e-09\n",
      "Iteration 3, Correction=2.446257e-10, Residual=5.201512e-12, tolerance=1.000000e-09\n"
     ]
    }
   ],
   "source": [
    "# run the example to look at the results\n",
    "\n",
    "nr_num_steps = 20\n",
    "nr_print = True\n",
    "\n",
    "displacements_all, nr_info_all = hyperelastic_solver(material_props, ele_type, coords.T, connect.T, fixed_nodes, dload_info, nr_print, nr_num_steps, nr_tol=1e-9, nr_maxit=30)\n",
    "\n",
    "fname = \"small-def.gif\"\n",
    "viz.make_deformation_gif(displacements_all, coords, connect, ele_type, fname)"
   ]
  },
  {
   "cell_type": "markdown",
   "metadata": {},
   "source": [
    "![alt text](small-def.gif)"
   ]
  },
  {
   "cell_type": "markdown",
   "metadata": {},
   "source": [
    "We now want to compare this to the analytical solution for Euler beam theory:"
   ]
  },
  {
   "cell_type": "code",
   "execution_count": 9,
   "metadata": {},
   "outputs": [],
   "source": [
    "# Get the final displacements and new positions\n",
    "final_disp = displacements_all[-1].reshape(-1, 2)\n",
    "pos = coords + final_disp\n",
    "\n",
    "# Plot the error\n",
    "fig = plt.figure()\n",
    "ax = fig.add_subplot()\n",
    "ax.scatter(pos[:, 0], final_disp[:, 1] - (solution(pos[:, 0], 1) - 0.5))\n",
    "ax.set_xlabel('x position')\n",
    "ax.set_ylabel('Displacement error')\n",
    "ax.set_title('Error Between Analytic & Numeric Solution')\n",
    "plt.savefig('analytic-numeric-diff.png', dpi=300, bbox_inches='tight', pad_inches=0.1)\n",
    "plt.close(fig)"
   ]
  },
  {
   "cell_type": "markdown",
   "metadata": {},
   "source": [
    "![alt text](analytic-numeric-diff.png)"
   ]
  },
  {
   "cell_type": "markdown",
   "metadata": {},
   "source": [
    "It's pretty close overall, but there's a very clear pattern for the error. The error is ~5% which is still good, but even here we see the model starting to differentiate."
   ]
  }
 ],
 "metadata": {
  "kernelspec": {
   "display_name": "finite-element-analysis-env",
   "language": "python",
   "name": "python3"
  },
  "language_info": {
   "codemirror_mode": {
    "name": "ipython",
    "version": 3
   },
   "file_extension": ".py",
   "mimetype": "text/x-python",
   "name": "python",
   "nbconvert_exporter": "python",
   "pygments_lexer": "ipython3",
   "version": "3.12.9"
  }
 },
 "nbformat": 4,
 "nbformat_minor": 2
}
